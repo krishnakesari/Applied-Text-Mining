{
 "cells": [
  {
   "cell_type": "code",
   "execution_count": 4,
   "metadata": {},
   "outputs": [
    {
     "output_type": "execute_result",
     "data": {
      "text/plain": "['', 'A', 'quick', 'brown', 'fox', 'jumped', 'over', 'the', 'lazy', 'dog.', '']"
     },
     "metadata": {},
     "execution_count": 4
    }
   ],
   "source": [
    "text = ' A quick brown fox jumped over the lazy dog. '\n",
    "text.split(' ')"
   ]
  },
  {
   "cell_type": "code",
   "execution_count": 6,
   "metadata": {},
   "outputs": [
    {
     "output_type": "execute_result",
     "data": {
      "text/plain": "['A', 'quick', 'brown', 'fox', 'jumped', 'over', 'the', 'lazy', 'dog.']"
     },
     "metadata": {},
     "execution_count": 6
    }
   ],
   "source": [
    "# Removing white spaces\n",
    "text = text.strip()\n",
    "text.split(' ')"
   ]
  },
  {
   "cell_type": "code",
   "execution_count": 8,
   "metadata": {},
   "outputs": [
    {
     "output_type": "execute_result",
     "data": {
      "text/plain": "40"
     },
     "metadata": {},
     "execution_count": 8
    }
   ],
   "source": [
    "# Find text\n",
    "# count from start\n",
    "text.find('o')\n",
    "# count from end\n",
    "text.rfind('o')"
   ]
  },
  {
   "cell_type": "code",
   "execution_count": 9,
   "metadata": {},
   "outputs": [
    {
     "output_type": "execute_result",
     "data": {
      "text/plain": "'A quick brOwn fOx jumped Over the lazy dOg.'"
     },
     "metadata": {},
     "execution_count": 9
    }
   ],
   "source": [
    "# Replace text\n",
    "text.replace('o', 'O')"
   ]
  },
  {
   "cell_type": "code",
   "execution_count": 27,
   "metadata": {},
   "outputs": [
    {
     "output_type": "execute_result",
     "data": {
      "text/plain": "10850"
     },
     "metadata": {},
     "execution_count": 27
    }
   ],
   "source": [
    "# Reading txt file\n",
    "f = open('text.txt', 'r')\n",
    "f.readline()\n",
    "f.seek(0)\n",
    "# f.read() to see all text\n",
    "text = f.read()\n",
    "len(text)"
   ]
  },
  {
   "cell_type": "code",
   "execution_count": 28,
   "metadata": {},
   "outputs": [
    {
     "output_type": "execute_result",
     "data": {
      "text/plain": "'Preamble\\nWhereas recognition of the inherent dignity and of the equal and inalienable rights of all members of the human family is the foundation of freedom, justice and peace in the world,\\n\\nWhereas disregard and contempt for human rights have resulted in barbarous acts which have outraged the conscience of mankind, and the advent of a world in which human beings shall enjoy freedom of speech and belief and freedom from fear and want has been proclaimed as the highest aspiration of the common people,\\n\\nWhereas it is essential, if man is not to be compelled to have recourse, as a last resort, to rebellion against tyranny and oppression, that human rights should be protected by the rule of law,\\n\\nWhereas it is essential to promote the development of friendly relations between nations,\\n\\nWhereas the peoples of the United Nations have in the Charter reaffirmed their faith in fundamental human rights, in the dignity and worth of the human person and in the equal rights of men and women and have determined to promote social progress and better standards of life in larger freedom,\\n\\nWhereas Member States have pledged themselves to achieve, in co-operation with the United Nations, the promotion of universal respect for and observance of human rights and fundamental freedoms,\\n\\nWhereas a common understanding of these rights and freedoms is of the greatest importance for the full realization of this pledge,\\n\\nNow, Therefore THE GENERAL ASSEMBLY proclaims THIS UNIVERSAL DECLARATION OF HUMAN RIGHTS as a common standard of achievement for all peoples and all nations, to the end that every individual and every organ of society, keeping this Declaration constantly in mind, shall strive by teaching and education to promote respect for these rights and freedoms and by progressive measures, national and international, to secure their universal and effective recognition and observance, both among the peoples of Member States themselves and among the peoples of territories under their jurisdiction. \\n\\nArticle 1.\\n \\nAll human beings are born free and equal in dignity and rights. They are endowed with reason and conscience and should act towards one another in a spirit of brotherhood.\\n\\nArticle 2.\\n \\nEveryone is entitled to all the rights and freedoms set forth in this Declaration, without distinction of any kind, such as race, colour, sex, language, religion, political or other opinion, national or social origin, property, birth or other status. Furthermore, no distinction shall be made on the basis of the political, jurisdictional or international status of the country or territory to which a person belongs, whether it be independent, trust, non-self-governing or under any other limitation of sovereignty.\\n\\nArticle 3.\\n \\nEveryone has the right to life, liberty and security of person.\\n\\nArticle 4.\\n \\nNo one shall be held in slavery or servitude; slavery and the slave trade shall be prohibited in all their forms.\\n\\nArticle 5.\\n \\nNo one shall be subjected to torture or to cruel, inhuman or degrading treatment or punishment.\\n\\nArticle 6.\\n \\nEveryone has the right to recognition everywhere as a person before the law.\\n\\nArticle 7.\\n \\nAll are equal before the law and are entitled without any discrimination to equal protection of the law. All are entitled to equal protection against any discrimination in violation of this Declaration and against any incitement to such discrimination.\\n\\nArticle 8.\\n \\nEveryone has the right to an effective remedy by the competent national tribunals for acts violating the fundamental rights granted him by the constitution or by law.\\n\\nArticle 9.\\n \\nNo one shall be subjected to arbitrary arrest, detention or exile.\\n\\nArticle 10.\\n \\nEveryone is entitled in full equality to a fair and public hearing by an independent and impartial tribunal, in the determination of his rights and obligations and of any criminal charge against him.\\n\\nArticle 11.\\n \\n(1) Everyone charged with a penal offence has the right to be presumed innocent until proved guilty according to law in a public trial at which he has had all the guarantees necessary for his defence.\\n(2) No one shall be held guilty of any penal offence on account of any act or omission which did not constitute a penal offence, under national or international law, at the time when it was committed. Nor shall a heavier penalty be imposed than the one that was applicable at the time the penal offence was committed.\\n\\nArticle 12.\\n \\nNo one shall be subjected to arbitrary interference with his privacy, family, home or correspondence, nor to attacks upon his honour and reputation. Everyone has the right to the protection of the law against such interference or attacks.\\n\\nArticle 13.\\n \\n(1) Everyone has the right to freedom of movement and residence within the borders of each state.\\n(2) Everyone has the right to leave any country, including his own, and to return to his country.\\n\\nArticle 14.\\n \\n(1) Everyone has the right to seek and to enjoy in other countries asylum from persecution.\\n(2) This right may not be invoked in the case of prosecutions genuinely arising from non-political crimes or from acts contrary to the purposes and principles of the United Nations.\\n\\nArticle 15.\\n \\n(1) Everyone has the right to a nationality.\\n(2) No one shall be arbitrarily deprived of his nationality nor denied the right to change his nationality.\\n\\nArticle 16.\\n \\n(1) Men and women of full age, without any limitation due to race, nationality or religion, have the right to marry and to found a family. They are entitled to equal rights as to marriage, during marriage and at its dissolution.\\n(2) Marriage shall be entered into only with the free and full consent of the intending spouses.\\n(3) The family is the natural and fundamental group unit of society and is entitled to protection by society and the State.\\n\\nArticle 17.\\n \\n(1) Everyone has the right to own property alone as well as in association with others.\\n(2) No one shall be arbitrarily deprived of his property.\\n\\nArticle 18.\\n \\nEveryone has the right to freedom of thought, conscience and religion; this right includes freedom to change his religion or belief, and freedom, either alone or in community with others and in public or private, to manifest his religion or belief in teaching, practice, worship and observance.\\n\\nArticle 19.\\n \\nEveryone has the right to freedom of opinion and expression; this right includes freedom to hold opinions without interference and to seek, receive and impart information and ideas through any media and regardless of frontiers.\\n\\nArticle 20.\\n \\n(1) Everyone has the right to freedom of peaceful assembly and association.\\n(2) No one may be compelled to belong to an association.\\n\\nArticle 21.\\n \\n(1) Everyone has the right to take part in the government of his country, directly or through freely chosen representatives.\\n(2) Everyone has the right of equal access to public service in his country.\\n(3) The will of the people shall be the basis of the authority of government; this will shall be expressed in periodic and genuine elections which shall be by universal and equal suffrage and shall be held by secret vote or by equivalent free voting procedures.\\n\\nArticle 22.\\n \\nEveryone, as a member of society, has the right to social security and is entitled to realization, through national effort and international co-operation and in accordance with the organization and resources of each State, of the economic, social and cultural rights indispensable for his dignity and the free development of his personality.\\n\\nArticle 23.\\n \\n(1) Everyone has the right to work, to free choice of employment, to just and favourable conditions of work and to protection against unemployment.\\n(2) Everyone, without any discrimination, has the right to equal pay for equal work.\\n(3) Everyone who works has the right to just and favourable remuneration ensuring for himself and his family an existence worthy of human dignity, and supplemented, if necessary, by other means of social protection.\\n(4) Everyone has the right to form and to join trade unions for the protection of his interests.\\n\\nArticle 24.\\n \\nEveryone has the right to rest and leisure, including reasonable limitation of working hours and periodic holidays with pay.\\n\\nArticle 25.\\n \\n(1) Everyone has the right to a standard of living adequate for the health and well-being of himself and of his family, including food, clothing, housing and medical care and necessary social services, and the right to security in the event of unemployment, sickness, disability, widowhood, old age or other lack of livelihood in circumstances beyond his control.\\n(2) Motherhood and childhood are entitled to special care and assistance. All children, whether born in or out of wedlock, shall enjoy the same social protection.\\n\\nArticle 26.\\n \\n(1) Everyone has the right to education. Education shall be free, at least in the elementary and fundamental stages. Elementary education shall be compulsory. Technical and professional education shall be made generally available and higher education shall be equally accessible to all on the basis of merit.\\n(2) Education shall be directed to the full development of the human personality and to the strengthening of respect for human rights and fundamental freedoms. It shall promote understanding, tolerance and friendship among all nations, racial or religious groups, and shall further the activities of the United Nations for the maintenance of peace.\\n(3) Parents have a prior right to choose the kind of education that shall be given to their children.\\n\\nArticle 27.\\n \\n(1) Everyone has the right freely to participate in the cultural life of the community, to enjoy the arts and to share in scientific advancement and its benefits.\\n(2) Everyone has the right to the protection of the moral and material interests resulting from any scientific, literary or artistic production of which he is the author.\\n\\nArticle 28.\\n \\nEveryone is entitled to a social and international order in which the rights and freedoms set forth in this Declaration can be fully realized.\\n\\nArticle 29.\\n \\n(1) Everyone has duties to the community in which alone the free and full development of his personality is possible.\\n(2) In the exercise of his rights and freedoms, everyone shall be subject only to such limitations as are determined by law solely for the purpose of securing due recognition and respect for the rights and freedoms of others and of meeting the just requirements of morality, public order and the general welfare in a democratic society.\\n(3) These rights and freedoms may in no case be exercised contrary to the purposes and principles of the United Nations.\\n\\nArticle 30.\\n \\nNothing in this Declaration may be interpreted as implying for any State, group or person any right to engage in any activity or to perform any act aimed at the destruction of any of the rights and freedoms set forth herein.'"
     },
     "metadata": {},
     "execution_count": 28
    }
   ],
   "source": [
    "# remove new line character (\\n)\n",
    "text.rstrip()"
   ]
  },
  {
   "cell_type": "code",
   "execution_count": 29,
   "metadata": {},
   "outputs": [
    {
     "output_type": "execute_result",
     "data": {
      "text/plain": "155"
     },
     "metadata": {},
     "execution_count": 29
    }
   ],
   "source": [
    "# Split lines\n",
    "text = text.splitlines()\n",
    "len(text)"
   ]
  },
  {
   "cell_type": "code",
   "execution_count": 30,
   "metadata": {},
   "outputs": [
    {
     "output_type": "execute_result",
     "data": {
      "text/plain": "['Preamble',\n 'Whereas recognition of the inherent dignity and of the equal and inalienable rights of all members of the human family is the foundation of freedom, justice and peace in the world,',\n '',\n 'Whereas disregard and contempt for human rights have resulted in barbarous acts which have outraged the conscience of mankind, and the advent of a world in which human beings shall enjoy freedom of speech and belief and freedom from fear and want has been proclaimed as the highest aspiration of the common people,',\n '',\n 'Whereas it is essential, if man is not to be compelled to have recourse, as a last resort, to rebellion against tyranny and oppression, that human rights should be protected by the rule of law,',\n '',\n 'Whereas it is essential to promote the development of friendly relations between nations,',\n '',\n 'Whereas the peoples of the United Nations have in the Charter reaffirmed their faith in fundamental human rights, in the dignity and worth of the human person and in the equal rights of men and women and have determined to promote social progress and better standards of life in larger freedom,',\n '',\n 'Whereas Member States have pledged themselves to achieve, in co-operation with the United Nations, the promotion of universal respect for and observance of human rights and fundamental freedoms,',\n '',\n 'Whereas a common understanding of these rights and freedoms is of the greatest importance for the full realization of this pledge,',\n '',\n 'Now, Therefore THE GENERAL ASSEMBLY proclaims THIS UNIVERSAL DECLARATION OF HUMAN RIGHTS as a common standard of achievement for all peoples and all nations, to the end that every individual and every organ of society, keeping this Declaration constantly in mind, shall strive by teaching and education to promote respect for these rights and freedoms and by progressive measures, national and international, to secure their universal and effective recognition and observance, both among the peoples of Member States themselves and among the peoples of territories under their jurisdiction. ',\n '',\n 'Article 1.',\n ' ',\n 'All human beings are born free and equal in dignity and rights. They are endowed with reason and conscience and should act towards one another in a spirit of brotherhood.',\n '',\n 'Article 2.',\n ' ',\n 'Everyone is entitled to all the rights and freedoms set forth in this Declaration, without distinction of any kind, such as race, colour, sex, language, religion, political or other opinion, national or social origin, property, birth or other status. Furthermore, no distinction shall be made on the basis of the political, jurisdictional or international status of the country or territory to which a person belongs, whether it be independent, trust, non-self-governing or under any other limitation of sovereignty.',\n '',\n 'Article 3.',\n ' ',\n 'Everyone has the right to life, liberty and security of person.',\n '',\n 'Article 4.',\n ' ',\n 'No one shall be held in slavery or servitude; slavery and the slave trade shall be prohibited in all their forms.',\n '',\n 'Article 5.',\n ' ',\n 'No one shall be subjected to torture or to cruel, inhuman or degrading treatment or punishment.',\n '',\n 'Article 6.',\n ' ',\n 'Everyone has the right to recognition everywhere as a person before the law.',\n '',\n 'Article 7.',\n ' ',\n 'All are equal before the law and are entitled without any discrimination to equal protection of the law. All are entitled to equal protection against any discrimination in violation of this Declaration and against any incitement to such discrimination.',\n '',\n 'Article 8.',\n ' ',\n 'Everyone has the right to an effective remedy by the competent national tribunals for acts violating the fundamental rights granted him by the constitution or by law.',\n '',\n 'Article 9.',\n ' ',\n 'No one shall be subjected to arbitrary arrest, detention or exile.',\n '',\n 'Article 10.',\n ' ',\n 'Everyone is entitled in full equality to a fair and public hearing by an independent and impartial tribunal, in the determination of his rights and obligations and of any criminal charge against him.',\n '',\n 'Article 11.',\n ' ',\n '(1) Everyone charged with a penal offence has the right to be presumed innocent until proved guilty according to law in a public trial at which he has had all the guarantees necessary for his defence.',\n '(2) No one shall be held guilty of any penal offence on account of any act or omission which did not constitute a penal offence, under national or international law, at the time when it was committed. Nor shall a heavier penalty be imposed than the one that was applicable at the time the penal offence was committed.',\n '',\n 'Article 12.',\n ' ',\n 'No one shall be subjected to arbitrary interference with his privacy, family, home or correspondence, nor to attacks upon his honour and reputation. Everyone has the right to the protection of the law against such interference or attacks.',\n '',\n 'Article 13.',\n ' ',\n '(1) Everyone has the right to freedom of movement and residence within the borders of each state.',\n '(2) Everyone has the right to leave any country, including his own, and to return to his country.',\n '',\n 'Article 14.',\n ' ',\n '(1) Everyone has the right to seek and to enjoy in other countries asylum from persecution.',\n '(2) This right may not be invoked in the case of prosecutions genuinely arising from non-political crimes or from acts contrary to the purposes and principles of the United Nations.',\n '',\n 'Article 15.',\n ' ',\n '(1) Everyone has the right to a nationality.',\n '(2) No one shall be arbitrarily deprived of his nationality nor denied the right to change his nationality.',\n '',\n 'Article 16.',\n ' ',\n '(1) Men and women of full age, without any limitation due to race, nationality or religion, have the right to marry and to found a family. They are entitled to equal rights as to marriage, during marriage and at its dissolution.',\n '(2) Marriage shall be entered into only with the free and full consent of the intending spouses.',\n '(3) The family is the natural and fundamental group unit of society and is entitled to protection by society and the State.',\n '',\n 'Article 17.',\n ' ',\n '(1) Everyone has the right to own property alone as well as in association with others.',\n '(2) No one shall be arbitrarily deprived of his property.',\n '',\n 'Article 18.',\n ' ',\n 'Everyone has the right to freedom of thought, conscience and religion; this right includes freedom to change his religion or belief, and freedom, either alone or in community with others and in public or private, to manifest his religion or belief in teaching, practice, worship and observance.',\n '',\n 'Article 19.',\n ' ',\n 'Everyone has the right to freedom of opinion and expression; this right includes freedom to hold opinions without interference and to seek, receive and impart information and ideas through any media and regardless of frontiers.',\n '',\n 'Article 20.',\n ' ',\n '(1) Everyone has the right to freedom of peaceful assembly and association.',\n '(2) No one may be compelled to belong to an association.',\n '',\n 'Article 21.',\n ' ',\n '(1) Everyone has the right to take part in the government of his country, directly or through freely chosen representatives.',\n '(2) Everyone has the right of equal access to public service in his country.',\n '(3) The will of the people shall be the basis of the authority of government; this will shall be expressed in periodic and genuine elections which shall be by universal and equal suffrage and shall be held by secret vote or by equivalent free voting procedures.',\n '',\n 'Article 22.',\n ' ',\n 'Everyone, as a member of society, has the right to social security and is entitled to realization, through national effort and international co-operation and in accordance with the organization and resources of each State, of the economic, social and cultural rights indispensable for his dignity and the free development of his personality.',\n '',\n 'Article 23.',\n ' ',\n '(1) Everyone has the right to work, to free choice of employment, to just and favourable conditions of work and to protection against unemployment.',\n '(2) Everyone, without any discrimination, has the right to equal pay for equal work.',\n '(3) Everyone who works has the right to just and favourable remuneration ensuring for himself and his family an existence worthy of human dignity, and supplemented, if necessary, by other means of social protection.',\n '(4) Everyone has the right to form and to join trade unions for the protection of his interests.',\n '',\n 'Article 24.',\n ' ',\n 'Everyone has the right to rest and leisure, including reasonable limitation of working hours and periodic holidays with pay.',\n '',\n 'Article 25.',\n ' ',\n '(1) Everyone has the right to a standard of living adequate for the health and well-being of himself and of his family, including food, clothing, housing and medical care and necessary social services, and the right to security in the event of unemployment, sickness, disability, widowhood, old age or other lack of livelihood in circumstances beyond his control.',\n '(2) Motherhood and childhood are entitled to special care and assistance. All children, whether born in or out of wedlock, shall enjoy the same social protection.',\n '',\n 'Article 26.',\n ' ',\n '(1) Everyone has the right to education. Education shall be free, at least in the elementary and fundamental stages. Elementary education shall be compulsory. Technical and professional education shall be made generally available and higher education shall be equally accessible to all on the basis of merit.',\n '(2) Education shall be directed to the full development of the human personality and to the strengthening of respect for human rights and fundamental freedoms. It shall promote understanding, tolerance and friendship among all nations, racial or religious groups, and shall further the activities of the United Nations for the maintenance of peace.',\n '(3) Parents have a prior right to choose the kind of education that shall be given to their children.',\n '',\n 'Article 27.',\n ' ',\n '(1) Everyone has the right freely to participate in the cultural life of the community, to enjoy the arts and to share in scientific advancement and its benefits.',\n '(2) Everyone has the right to the protection of the moral and material interests resulting from any scientific, literary or artistic production of which he is the author.',\n '',\n 'Article 28.',\n ' ',\n 'Everyone is entitled to a social and international order in which the rights and freedoms set forth in this Declaration can be fully realized.',\n '',\n 'Article 29.',\n ' ',\n '(1) Everyone has duties to the community in which alone the free and full development of his personality is possible.',\n '(2) In the exercise of his rights and freedoms, everyone shall be subject only to such limitations as are determined by law solely for the purpose of securing due recognition and respect for the rights and freedoms of others and of meeting the just requirements of morality, public order and the general welfare in a democratic society.',\n '(3) These rights and freedoms may in no case be exercised contrary to the purposes and principles of the United Nations.',\n '',\n 'Article 30.',\n ' ',\n 'Nothing in this Declaration may be interpreted as implying for any State, group or person any right to engage in any activity or to perform any act aimed at the destruction of any of the rights and freedoms set forth herein.']"
     },
     "metadata": {},
     "execution_count": 30
    }
   ],
   "source": [
    "text"
   ]
  },
  {
   "cell_type": "code",
   "execution_count": null,
   "metadata": {},
   "outputs": [],
   "source": []
  }
 ],
 "metadata": {
  "language_info": {
   "codemirror_mode": {
    "name": "ipython",
    "version": 3
   },
   "file_extension": ".py",
   "mimetype": "text/x-python",
   "name": "python",
   "nbconvert_exporter": "python",
   "pygments_lexer": "ipython3",
   "version": "3.8.2-final"
  },
  "orig_nbformat": 2,
  "kernelspec": {
   "name": "python38264bitfeaae0ea38f749759f7aabe755a2e156",
   "display_name": "Python 3.8.2 64-bit"
  }
 },
 "nbformat": 4,
 "nbformat_minor": 2
}