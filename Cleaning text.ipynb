{
 "cells": [
  {
   "cell_type": "code",
   "execution_count": 4,
   "metadata": {},
   "outputs": [
    {
     "output_type": "execute_result",
     "data": {
      "text/plain": "['', 'A', 'quick', 'brown', 'fox', 'jumped', 'over', 'the', 'lazy', 'dog.', '']"
     },
     "metadata": {},
     "execution_count": 4
    }
   ],
   "source": [
    "text = ' A quick brown fox jumped over the lazy dog. '\n",
    "text.split(' ')"
   ]
  },
  {
   "cell_type": "code",
   "execution_count": 6,
   "metadata": {},
   "outputs": [
    {
     "output_type": "execute_result",
     "data": {
      "text/plain": "['A', 'quick', 'brown', 'fox', 'jumped', 'over', 'the', 'lazy', 'dog.']"
     },
     "metadata": {},
     "execution_count": 6
    }
   ],
   "source": [
    "# Removing white spaces\n",
    "text = text.strip()\n",
    "text.split(' ')"
   ]
  },
  {
   "cell_type": "code",
   "execution_count": 8,
   "metadata": {},
   "outputs": [
    {
     "output_type": "execute_result",
     "data": {
      "text/plain": "40"
     },
     "metadata": {},
     "execution_count": 8
    }
   ],
   "source": [
    "# Find text\n",
    "# count from start\n",
    "text.find('o')\n",
    "# count from end\n",
    "text.rfind('o')"
   ]
  },
  {
   "cell_type": "code",
   "execution_count": 9,
   "metadata": {},
   "outputs": [
    {
     "output_type": "execute_result",
     "data": {
      "text/plain": "'A quick brOwn fOx jumped Over the lazy dOg.'"
     },
     "metadata": {},
     "execution_count": 9
    }
   ],
   "source": [
    "# Replace text\n",
    "text.replace('o', 'O')"
   ]
  },
  {
   "cell_type": "code",
   "execution_count": 31,
   "metadata": {},
   "outputs": [
    {
     "output_type": "execute_result",
     "data": {
      "text/plain": "10850"
     },
     "metadata": {},
     "execution_count": 31
    }
   ],
   "source": [
    "# Reading txt file\n",
    "f = open('text.txt', 'r')\n",
    "f.readline()\n",
    "f.seek(0)\n",
    "# f.read() to see all text\n",
    "text = f.read()\n",
    "len(text)"
   ]
  },
  {
   "cell_type": "code",
   "execution_count": 32,
   "metadata": {},
   "outputs": [],
   "source": [
    "# remove new line character (\\n)\n",
    "# text.rstrip()"
   ]
  },
  {
   "cell_type": "code",
   "execution_count": 33,
   "metadata": {},
   "outputs": [
    {
     "output_type": "execute_result",
     "data": {
      "text/plain": "155"
     },
     "metadata": {},
     "execution_count": 33
    }
   ],
   "source": [
    "# Split lines\n",
    "text = text.splitlines()\n",
    "len(text)"
   ]
  },
  {
   "cell_type": "code",
   "execution_count": null,
   "metadata": {},
   "outputs": [],
   "source": []
  }
 ],
 "metadata": {
  "language_info": {
   "codemirror_mode": {
    "name": "ipython",
    "version": 3
   },
   "file_extension": ".py",
   "mimetype": "text/x-python",
   "name": "python",
   "nbconvert_exporter": "python",
   "pygments_lexer": "ipython3",
   "version": "3.8.2-final"
  },
  "orig_nbformat": 2,
  "kernelspec": {
   "name": "python38264bitfeaae0ea38f749759f7aabe755a2e156",
   "display_name": "Python 3.8.2 64-bit"
  }
 },
 "nbformat": 4,
 "nbformat_minor": 2
}