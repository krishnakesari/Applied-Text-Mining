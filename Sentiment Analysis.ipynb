{
 "cells": [
  {
   "cell_type": "code",
   "execution_count": 3,
   "metadata": {},
   "outputs": [
    {
     "output_type": "execute_result",
     "data": {
      "text/plain": "                                             Product Name Brand Name   Price  \\\n394349  Sony XPERIA Z2 D6503 FACTORY UNLOCKED Internat...        NaN  244.95   \n34377       Apple iPhone 5c 8GB (Pink) - Verizon Wireless      Apple  194.99   \n248521  Motorola Droid RAZR MAXX XT912 M Verizon Smart...   Motorola  174.99   \n167661  CNPGD [U.S. Office Extended Warranty] Smartwat...      CNPGD   49.99   \n73287   Apple iPhone 7 Unlocked Phone 256 GB - US Vers...      Apple  922.00   \n\n        Rating                                            Reviews  \\\n394349       5  Very good one! Better than Samsung S and iphon...   \n34377        1  The phone needed a SIM card, would have been n...   \n248521       5  I was 3 months away from my upgrade and my Str...   \n167661       1                     an experience i want to forget   \n73287        5        GREAT PHONE WORK ACCORDING MY EXPECTATIONS.   \n\n        Review Votes  \n394349           0.0  \n34377            1.0  \n248521           3.0  \n167661           0.0  \n73287            1.0  ",
      "text/html": "<div>\n<style scoped>\n    .dataframe tbody tr th:only-of-type {\n        vertical-align: middle;\n    }\n\n    .dataframe tbody tr th {\n        vertical-align: top;\n    }\n\n    .dataframe thead th {\n        text-align: right;\n    }\n</style>\n<table border=\"1\" class=\"dataframe\">\n  <thead>\n    <tr style=\"text-align: right;\">\n      <th></th>\n      <th>Product Name</th>\n      <th>Brand Name</th>\n      <th>Price</th>\n      <th>Rating</th>\n      <th>Reviews</th>\n      <th>Review Votes</th>\n    </tr>\n  </thead>\n  <tbody>\n    <tr>\n      <th>394349</th>\n      <td>Sony XPERIA Z2 D6503 FACTORY UNLOCKED Internat...</td>\n      <td>NaN</td>\n      <td>244.95</td>\n      <td>5</td>\n      <td>Very good one! Better than Samsung S and iphon...</td>\n      <td>0.0</td>\n    </tr>\n    <tr>\n      <th>34377</th>\n      <td>Apple iPhone 5c 8GB (Pink) - Verizon Wireless</td>\n      <td>Apple</td>\n      <td>194.99</td>\n      <td>1</td>\n      <td>The phone needed a SIM card, would have been n...</td>\n      <td>1.0</td>\n    </tr>\n    <tr>\n      <th>248521</th>\n      <td>Motorola Droid RAZR MAXX XT912 M Verizon Smart...</td>\n      <td>Motorola</td>\n      <td>174.99</td>\n      <td>5</td>\n      <td>I was 3 months away from my upgrade and my Str...</td>\n      <td>3.0</td>\n    </tr>\n    <tr>\n      <th>167661</th>\n      <td>CNPGD [U.S. Office Extended Warranty] Smartwat...</td>\n      <td>CNPGD</td>\n      <td>49.99</td>\n      <td>1</td>\n      <td>an experience i want to forget</td>\n      <td>0.0</td>\n    </tr>\n    <tr>\n      <th>73287</th>\n      <td>Apple iPhone 7 Unlocked Phone 256 GB - US Vers...</td>\n      <td>Apple</td>\n      <td>922.00</td>\n      <td>5</td>\n      <td>GREAT PHONE WORK ACCORDING MY EXPECTATIONS.</td>\n      <td>1.0</td>\n    </tr>\n  </tbody>\n</table>\n</div>"
     },
     "metadata": {},
     "execution_count": 3
    }
   ],
   "source": [
    "import pandas as pd\n",
    "import numpy as np\n",
    "\n",
    "# Read in the data\n",
    "df = pd.read_csv('C:/Users/bkesa/Downloads/Amazon_Unlocked_Mobile.csv')\n",
    "\n",
    "# Sampling data\n",
    "df = df.sample(frac = 0.1, random_state = 10)\n",
    "df.head()\n"
   ]
  },
  {
   "cell_type": "code",
   "execution_count": 4,
   "metadata": {},
   "outputs": [
    {
     "output_type": "execute_result",
     "data": {
      "text/plain": "                                             Product Name  Brand Name   Price  \\\n34377       Apple iPhone 5c 8GB (Pink) - Verizon Wireless       Apple  194.99   \n248521  Motorola Droid RAZR MAXX XT912 M Verizon Smart...    Motorola  174.99   \n167661  CNPGD [U.S. Office Extended Warranty] Smartwat...       CNPGD   49.99   \n73287   Apple iPhone 7 Unlocked Phone 256 GB - US Vers...       Apple  922.00   \n277158  Nokia N8 Unlocked GSM Touch Screen Phone Featu...       Nokia   95.00   \n100311  Blackberry Torch 2 9810 Unlocked Phone with 1....  BlackBerry   77.49   \n251669  Motorola Moto E (1st Generation) - Black - 4 G...    Motorola   89.99   \n279878  OtterBox 77-29864 Defender Series Hybrid Case ...    OtterBox    9.99   \n406017  Verizon HTC Rezound 4G Android Smarphone - 8MP...         HTC   74.99   \n302567  RCA M1 Unlocked Cell Phone, Dual Sim, 5Mp Came...         RCA  159.99   \n\n        Rating                                            Reviews  \\\n34377        1  The phone needed a SIM card, would have been n...   \n248521       5  I was 3 months away from my upgrade and my Str...   \n167661       1                     an experience i want to forget   \n73287        5        GREAT PHONE WORK ACCORDING MY EXPECTATIONS.   \n277158       5  I fell in love with this phone because it did ...   \n100311       5  I am pleased with this Blackberry phone! The p...   \n251669       5  Great product, best value for money smartphone...   \n279878       5          I've bought 3 no problems. Fast delivery.   \n406017       4                       Great phone for the price...   \n302567       5  My mom is not good with new technoloy but this...   \n\n        Review Votes  Positively Rated  \n34377            1.0                 0  \n248521           3.0                 1  \n167661           0.0                 0  \n73287            1.0                 1  \n277158           0.0                 1  \n100311           0.0                 1  \n251669           0.0                 1  \n279878           0.0                 1  \n406017           0.0                 1  \n302567           4.0                 1  ",
      "text/html": "<div>\n<style scoped>\n    .dataframe tbody tr th:only-of-type {\n        vertical-align: middle;\n    }\n\n    .dataframe tbody tr th {\n        vertical-align: top;\n    }\n\n    .dataframe thead th {\n        text-align: right;\n    }\n</style>\n<table border=\"1\" class=\"dataframe\">\n  <thead>\n    <tr style=\"text-align: right;\">\n      <th></th>\n      <th>Product Name</th>\n      <th>Brand Name</th>\n      <th>Price</th>\n      <th>Rating</th>\n      <th>Reviews</th>\n      <th>Review Votes</th>\n      <th>Positively Rated</th>\n    </tr>\n  </thead>\n  <tbody>\n    <tr>\n      <th>34377</th>\n      <td>Apple iPhone 5c 8GB (Pink) - Verizon Wireless</td>\n      <td>Apple</td>\n      <td>194.99</td>\n      <td>1</td>\n      <td>The phone needed a SIM card, would have been n...</td>\n      <td>1.0</td>\n      <td>0</td>\n    </tr>\n    <tr>\n      <th>248521</th>\n      <td>Motorola Droid RAZR MAXX XT912 M Verizon Smart...</td>\n      <td>Motorola</td>\n      <td>174.99</td>\n      <td>5</td>\n      <td>I was 3 months away from my upgrade and my Str...</td>\n      <td>3.0</td>\n      <td>1</td>\n    </tr>\n    <tr>\n      <th>167661</th>\n      <td>CNPGD [U.S. Office Extended Warranty] Smartwat...</td>\n      <td>CNPGD</td>\n      <td>49.99</td>\n      <td>1</td>\n      <td>an experience i want to forget</td>\n      <td>0.0</td>\n      <td>0</td>\n    </tr>\n    <tr>\n      <th>73287</th>\n      <td>Apple iPhone 7 Unlocked Phone 256 GB - US Vers...</td>\n      <td>Apple</td>\n      <td>922.00</td>\n      <td>5</td>\n      <td>GREAT PHONE WORK ACCORDING MY EXPECTATIONS.</td>\n      <td>1.0</td>\n      <td>1</td>\n    </tr>\n    <tr>\n      <th>277158</th>\n      <td>Nokia N8 Unlocked GSM Touch Screen Phone Featu...</td>\n      <td>Nokia</td>\n      <td>95.00</td>\n      <td>5</td>\n      <td>I fell in love with this phone because it did ...</td>\n      <td>0.0</td>\n      <td>1</td>\n    </tr>\n    <tr>\n      <th>100311</th>\n      <td>Blackberry Torch 2 9810 Unlocked Phone with 1....</td>\n      <td>BlackBerry</td>\n      <td>77.49</td>\n      <td>5</td>\n      <td>I am pleased with this Blackberry phone! The p...</td>\n      <td>0.0</td>\n      <td>1</td>\n    </tr>\n    <tr>\n      <th>251669</th>\n      <td>Motorola Moto E (1st Generation) - Black - 4 G...</td>\n      <td>Motorola</td>\n      <td>89.99</td>\n      <td>5</td>\n      <td>Great product, best value for money smartphone...</td>\n      <td>0.0</td>\n      <td>1</td>\n    </tr>\n    <tr>\n      <th>279878</th>\n      <td>OtterBox 77-29864 Defender Series Hybrid Case ...</td>\n      <td>OtterBox</td>\n      <td>9.99</td>\n      <td>5</td>\n      <td>I've bought 3 no problems. Fast delivery.</td>\n      <td>0.0</td>\n      <td>1</td>\n    </tr>\n    <tr>\n      <th>406017</th>\n      <td>Verizon HTC Rezound 4G Android Smarphone - 8MP...</td>\n      <td>HTC</td>\n      <td>74.99</td>\n      <td>4</td>\n      <td>Great phone for the price...</td>\n      <td>0.0</td>\n      <td>1</td>\n    </tr>\n    <tr>\n      <th>302567</th>\n      <td>RCA M1 Unlocked Cell Phone, Dual Sim, 5Mp Came...</td>\n      <td>RCA</td>\n      <td>159.99</td>\n      <td>5</td>\n      <td>My mom is not good with new technoloy but this...</td>\n      <td>4.0</td>\n      <td>1</td>\n    </tr>\n  </tbody>\n</table>\n</div>"
     },
     "metadata": {},
     "execution_count": 4
    }
   ],
   "source": [
    "# Dropping missing values\n",
    "df.dropna(inplace= True)\n",
    "\n",
    "# Removing Neutral ratings = 3\n",
    "df = df[df['Rating'] != 3]\n",
    "\n",
    "# Encode 4s and 5s as 1 (rated positive)\n",
    "# Encode 1s and 2s as 0 (rated poorly)\n",
    "df['Positively Rated'] = np.where(df['Rating'] > 3,1,0)\n",
    "df.head(10)"
   ]
  },
  {
   "cell_type": "code",
   "execution_count": 5,
   "metadata": {},
   "outputs": [
    {
     "output_type": "execute_result",
     "data": {
      "text/plain": "0.7471776686078667"
     },
     "metadata": {},
     "execution_count": 5
    }
   ],
   "source": [
    "# Most ratings are positive\n",
    "df['Positively Rated'].mean()"
   ]
  },
  {
   "cell_type": "code",
   "execution_count": 6,
   "metadata": {},
   "outputs": [],
   "source": [
    "from sklearn.model_selection import train_test_split\n",
    "\n",
    "# Split data into training and test sets\n",
    "X_train, X_test, y_train, y_test = train_test_split(df['Reviews'],\n",
    "                                                    df['Positively Rated'],\n",
    "                                                    random_state = 0)"
   ]
  },
  {
   "cell_type": "code",
   "execution_count": 7,
   "metadata": {},
   "outputs": [
    {
     "output_type": "stream",
     "name": "stdout",
     "text": "X_train first entry:\n\n Everything about it is awesome!\n\n\nX_train shape:  (23052,)\n"
    }
   ],
   "source": [
    "print('X_train first entry:\\n\\n', X_train.iloc[0])\n",
    "print('\\n\\nX_train shape: ', X_train.shape)"
   ]
  },
  {
   "cell_type": "code",
   "execution_count": 8,
   "metadata": {},
   "outputs": [],
   "source": [
    "# Count Vectorizer"
   ]
  },
  {
   "cell_type": "code",
   "execution_count": 9,
   "metadata": {},
   "outputs": [],
   "source": [
    "from sklearn.feature_extraction.text import CountVectorizer\n",
    "\n",
    "# Fit the count vectorizer to the training data\n",
    "vect = CountVectorizer().fit(X_train)"
   ]
  },
  {
   "cell_type": "code",
   "execution_count": 10,
   "metadata": {},
   "outputs": [
    {
     "output_type": "execute_result",
     "data": {
      "text/plain": "['00',\n 'arroja',\n 'comapañias',\n 'dvds',\n 'golden',\n 'lands',\n 'oil',\n 'razonable',\n 'smallsliver',\n 'tweak']"
     },
     "metadata": {},
     "execution_count": 10
    }
   ],
   "source": [
    "vect.get_feature_names()[::2000]"
   ]
  },
  {
   "cell_type": "code",
   "execution_count": 11,
   "metadata": {},
   "outputs": [
    {
     "output_type": "execute_result",
     "data": {
      "text/plain": "19601"
     },
     "metadata": {},
     "execution_count": 11
    }
   ],
   "source": [
    "len(vect.get_feature_names())"
   ]
  },
  {
   "cell_type": "code",
   "execution_count": 12,
   "metadata": {},
   "outputs": [
    {
     "output_type": "execute_result",
     "data": {
      "text/plain": "<23052x19601 sparse matrix of type '<class 'numpy.int64'>'\n\twith 613289 stored elements in Compressed Sparse Row format>"
     },
     "metadata": {},
     "execution_count": 12
    }
   ],
   "source": [
    "# Transforms the documents in the training data to a document-term matrix\n",
    "X_train_vectorized = vect.transform(X_train)\n",
    "X_train_vectorized"
   ]
  },
  {
   "cell_type": "code",
   "execution_count": 13,
   "metadata": {},
   "outputs": [
    {
     "output_type": "execute_result",
     "data": {
      "text/plain": "LogisticRegression()"
     },
     "metadata": {},
     "execution_count": 13
    }
   ],
   "source": [
    "from sklearn.linear_model import LogisticRegression\n",
    "\n",
    "# train the model\n",
    "model = LogisticRegression()\n",
    "model.fit(X_train_vectorized, y_train)"
   ]
  },
  {
   "cell_type": "code",
   "execution_count": 14,
   "metadata": {},
   "outputs": [
    {
     "output_type": "stream",
     "name": "stdout",
     "text": "AUC:  0.8968311343785953\n"
    }
   ],
   "source": [
    "from sklearn.metrics import roc_auc_score\n",
    "\n",
    "# Predict the transformed test documents\n",
    "predictions = model.predict(vect.transform(X_test))\n",
    "\n",
    "print('AUC: ', roc_auc_score(y_test, predictions))"
   ]
  },
  {
   "cell_type": "code",
   "execution_count": 15,
   "metadata": {},
   "outputs": [
    {
     "output_type": "stream",
     "name": "stdout",
     "text": "Smallest Coefs:\n['worst' 'terrible' 'slow' 'junk' 'sucks' 'poor' 'waste' 'horrible'\n 'disappointed' 'useless']\n\nLargest Coefs:\n['excelent' 'excelente' 'excellent' 'perfectly' 'love' 'perfect' 'exactly'\n 'great' 'best' 'awesome']\n"
    }
   ],
   "source": [
    "# Get feature names as numpy array\n",
    "feature_names = np.array(vect.get_feature_names())\n",
    "\n",
    "# Sort the coefficients from the model\n",
    "sorted_coef_index = model.coef_[0].argsort()\n",
    "\n",
    "# Find the 10 smallest and 10 largest coefficients\n",
    "# The 10 largest coefficients are being indexed using [:-11:-1]\n",
    "\n",
    "print('Smallest Coefs:\\n{}\\n'.format(feature_names[sorted_coef_index[:10]]))\n",
    "\n",
    "print('Largest Coefs:\\n{}'.format(feature_names[sorted_coef_index[:-11:-1]]))"
   ]
  },
  {
   "cell_type": "code",
   "execution_count": 16,
   "metadata": {},
   "outputs": [
    {
     "output_type": "execute_result",
     "data": {
      "text/plain": "5442"
     },
     "metadata": {},
     "execution_count": 16
    }
   ],
   "source": [
    "# TFIDF\n",
    "\n",
    "from sklearn.feature_extraction.text import TfidfVectorizer\n",
    "\n",
    "# Fit Tfidf vectorizer to the training data specifying minumum document frequency\n",
    "vect = TfidfVectorizer(min_df = 5).fit(X_train)\n",
    "len(vect.get_feature_names())"
   ]
  },
  {
   "cell_type": "code",
   "execution_count": 18,
   "metadata": {},
   "outputs": [
    {
     "output_type": "stream",
     "name": "stdout",
     "text": "AUC:  0.889951006492175\n"
    }
   ],
   "source": [
    "X_train_vectorized = vect.transform(X_train)\n",
    "\n",
    "model = LogisticRegression()\n",
    "model.fit(X_train_vectorized, y_train)\n",
    "\n",
    "predictions = model.predict(vect.transform(X_test))\n",
    "\n",
    "print('AUC: ', roc_auc_score(y_test, predictions))"
   ]
  },
  {
   "cell_type": "code",
   "execution_count": 19,
   "metadata": {},
   "outputs": [
    {
     "output_type": "stream",
     "name": "stdout",
     "text": "Smallest tfidf:\n['61' 'printer' 'approach' 'adjustment' 'consequences' 'length' 'emailing'\n 'degrees' 'handsfree' 'chipset']\n\nLargest tfidf:\n['unlocked' 'handy' 'useless' 'cheat' 'up' 'original' 'exelent' 'exelente'\n 'exellent' 'satisfied']\n"
    }
   ],
   "source": [
    "feature_names = np.array(vect.get_feature_names())\n",
    "\n",
    "sorted_tfidf_index = X_train_vectorized.max(0).toarray()[0].argsort()\n",
    "\n",
    "print('Smallest tfidf:\\n{}\\n'.format(feature_names[sorted_tfidf_index[:10]]))\n",
    "\n",
    "print('Largest tfidf:\\n{}'.format(feature_names[sorted_tfidf_index[:-11:-1]]))"
   ]
  },
  {
   "cell_type": "code",
   "execution_count": 20,
   "metadata": {},
   "outputs": [
    {
     "output_type": "stream",
     "name": "stdout",
     "text": "Smallest Coef:\n['not' 'slow' 'disappointed' 'worst' 'terrible' 'never' 'return' 'doesn'\n 'horrible' 'waste']\n\nLargest Coef:\n['unlocked' 'handy' 'useless' 'cheat' 'up' 'original' 'exelent' 'exelente'\n 'exellent' 'satisfied']\n"
    }
   ],
   "source": [
    "sorted_coef_index = model.coef_[0].argsort()\n",
    "\n",
    "print('Smallest Coef:\\n{}\\n'.format(feature_names[sorted_coef_index[:10]]))\n",
    "\n",
    "print('Largest Coef:\\n{}'.format(feature_names[sorted_tfidf_index[:-11:-1]]))"
   ]
  },
  {
   "cell_type": "code",
   "execution_count": 21,
   "metadata": {},
   "outputs": [
    {
     "output_type": "stream",
     "name": "stdout",
     "text": "[0 0]\n"
    }
   ],
   "source": [
    "# These reviews are treated the same by our current model\n",
    "print(model.predict(vect.transform(['not an issue, phone is working', 'an issue, phone is not working'])))"
   ]
  },
  {
   "cell_type": "code",
   "execution_count": null,
   "metadata": {},
   "outputs": [],
   "source": [
    "# n - grams"
   ]
  }
 ],
 "metadata": {
  "language_info": {
   "codemirror_mode": {
    "name": "ipython",
    "version": 3
   },
   "file_extension": ".py",
   "mimetype": "text/x-python",
   "name": "python",
   "nbconvert_exporter": "python",
   "pygments_lexer": "ipython3",
   "version": "3.8.3-final"
  },
  "orig_nbformat": 2,
  "kernelspec": {
   "name": "python38264bit5c21451e1d864d53a27be528a149d476",
   "display_name": "Python 3.8.2 64-bit"
  }
 },
 "nbformat": 4,
 "nbformat_minor": 2
}