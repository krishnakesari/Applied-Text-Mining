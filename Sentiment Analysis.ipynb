{
 "cells": [
  {
   "cell_type": "code",
   "execution_count": 10,
   "metadata": {},
   "outputs": [
    {
     "output_type": "execute_result",
     "data": {
      "text/plain": "                                             Product Name  ... Review Votes\n394349  Sony XPERIA Z2 D6503 FACTORY UNLOCKED Internat...  ...          0.0\n34377       Apple iPhone 5c 8GB (Pink) - Verizon Wireless  ...          1.0\n248521  Motorola Droid RAZR MAXX XT912 M Verizon Smart...  ...          3.0\n167661  CNPGD [U.S. Office Extended Warranty] Smartwat...  ...          0.0\n73287   Apple iPhone 7 Unlocked Phone 256 GB - US Vers...  ...          1.0\n\n[5 rows x 6 columns]",
      "text/html": "<div>\n<style scoped>\n    .dataframe tbody tr th:only-of-type {\n        vertical-align: middle;\n    }\n\n    .dataframe tbody tr th {\n        vertical-align: top;\n    }\n\n    .dataframe thead th {\n        text-align: right;\n    }\n</style>\n<table border=\"1\" class=\"dataframe\">\n  <thead>\n    <tr style=\"text-align: right;\">\n      <th></th>\n      <th>Product Name</th>\n      <th>Brand Name</th>\n      <th>Price</th>\n      <th>Rating</th>\n      <th>Reviews</th>\n      <th>Review Votes</th>\n    </tr>\n  </thead>\n  <tbody>\n    <tr>\n      <th>394349</th>\n      <td>Sony XPERIA Z2 D6503 FACTORY UNLOCKED Internat...</td>\n      <td>NaN</td>\n      <td>244.95</td>\n      <td>5</td>\n      <td>Very good one! Better than Samsung S and iphon...</td>\n      <td>0.0</td>\n    </tr>\n    <tr>\n      <th>34377</th>\n      <td>Apple iPhone 5c 8GB (Pink) - Verizon Wireless</td>\n      <td>Apple</td>\n      <td>194.99</td>\n      <td>1</td>\n      <td>The phone needed a SIM card, would have been n...</td>\n      <td>1.0</td>\n    </tr>\n    <tr>\n      <th>248521</th>\n      <td>Motorola Droid RAZR MAXX XT912 M Verizon Smart...</td>\n      <td>Motorola</td>\n      <td>174.99</td>\n      <td>5</td>\n      <td>I was 3 months away from my upgrade and my Str...</td>\n      <td>3.0</td>\n    </tr>\n    <tr>\n      <th>167661</th>\n      <td>CNPGD [U.S. Office Extended Warranty] Smartwat...</td>\n      <td>CNPGD</td>\n      <td>49.99</td>\n      <td>1</td>\n      <td>an experience i want to forget</td>\n      <td>0.0</td>\n    </tr>\n    <tr>\n      <th>73287</th>\n      <td>Apple iPhone 7 Unlocked Phone 256 GB - US Vers...</td>\n      <td>Apple</td>\n      <td>922.00</td>\n      <td>5</td>\n      <td>GREAT PHONE WORK ACCORDING MY EXPECTATIONS.</td>\n      <td>1.0</td>\n    </tr>\n  </tbody>\n</table>\n</div>"
     },
     "metadata": {},
     "execution_count": 10
    }
   ],
   "source": [
    "import pandas as pd\n",
    "import numpy as np\n",
    "\n",
    "# Read in the data\n",
    "df = pd.read_csv('C:/Users/bkesa/Downloads/Amazon_Unlocked_Mobile.csv')\n",
    "\n",
    "# Sampling data\n",
    "df = df.sample(frac = 0.1, random_state = 10)\n",
    "df.head()\n"
   ]
  },
  {
   "cell_type": "code",
   "execution_count": 11,
   "metadata": {},
   "outputs": [
    {
     "output_type": "execute_result",
     "data": {
      "text/plain": "                                             Product Name  ... Positively Rated\n34377       Apple iPhone 5c 8GB (Pink) - Verizon Wireless  ...                0\n248521  Motorola Droid RAZR MAXX XT912 M Verizon Smart...  ...                1\n167661  CNPGD [U.S. Office Extended Warranty] Smartwat...  ...                0\n73287   Apple iPhone 7 Unlocked Phone 256 GB - US Vers...  ...                1\n277158  Nokia N8 Unlocked GSM Touch Screen Phone Featu...  ...                1\n100311  Blackberry Torch 2 9810 Unlocked Phone with 1....  ...                1\n251669  Motorola Moto E (1st Generation) - Black - 4 G...  ...                1\n279878  OtterBox 77-29864 Defender Series Hybrid Case ...  ...                1\n406017  Verizon HTC Rezound 4G Android Smarphone - 8MP...  ...                1\n302567  RCA M1 Unlocked Cell Phone, Dual Sim, 5Mp Came...  ...                1\n\n[10 rows x 7 columns]",
      "text/html": "<div>\n<style scoped>\n    .dataframe tbody tr th:only-of-type {\n        vertical-align: middle;\n    }\n\n    .dataframe tbody tr th {\n        vertical-align: top;\n    }\n\n    .dataframe thead th {\n        text-align: right;\n    }\n</style>\n<table border=\"1\" class=\"dataframe\">\n  <thead>\n    <tr style=\"text-align: right;\">\n      <th></th>\n      <th>Product Name</th>\n      <th>Brand Name</th>\n      <th>Price</th>\n      <th>Rating</th>\n      <th>Reviews</th>\n      <th>Review Votes</th>\n      <th>Positively Rated</th>\n    </tr>\n  </thead>\n  <tbody>\n    <tr>\n      <th>34377</th>\n      <td>Apple iPhone 5c 8GB (Pink) - Verizon Wireless</td>\n      <td>Apple</td>\n      <td>194.99</td>\n      <td>1</td>\n      <td>The phone needed a SIM card, would have been n...</td>\n      <td>1.0</td>\n      <td>0</td>\n    </tr>\n    <tr>\n      <th>248521</th>\n      <td>Motorola Droid RAZR MAXX XT912 M Verizon Smart...</td>\n      <td>Motorola</td>\n      <td>174.99</td>\n      <td>5</td>\n      <td>I was 3 months away from my upgrade and my Str...</td>\n      <td>3.0</td>\n      <td>1</td>\n    </tr>\n    <tr>\n      <th>167661</th>\n      <td>CNPGD [U.S. Office Extended Warranty] Smartwat...</td>\n      <td>CNPGD</td>\n      <td>49.99</td>\n      <td>1</td>\n      <td>an experience i want to forget</td>\n      <td>0.0</td>\n      <td>0</td>\n    </tr>\n    <tr>\n      <th>73287</th>\n      <td>Apple iPhone 7 Unlocked Phone 256 GB - US Vers...</td>\n      <td>Apple</td>\n      <td>922.00</td>\n      <td>5</td>\n      <td>GREAT PHONE WORK ACCORDING MY EXPECTATIONS.</td>\n      <td>1.0</td>\n      <td>1</td>\n    </tr>\n    <tr>\n      <th>277158</th>\n      <td>Nokia N8 Unlocked GSM Touch Screen Phone Featu...</td>\n      <td>Nokia</td>\n      <td>95.00</td>\n      <td>5</td>\n      <td>I fell in love with this phone because it did ...</td>\n      <td>0.0</td>\n      <td>1</td>\n    </tr>\n    <tr>\n      <th>100311</th>\n      <td>Blackberry Torch 2 9810 Unlocked Phone with 1....</td>\n      <td>BlackBerry</td>\n      <td>77.49</td>\n      <td>5</td>\n      <td>I am pleased with this Blackberry phone! The p...</td>\n      <td>0.0</td>\n      <td>1</td>\n    </tr>\n    <tr>\n      <th>251669</th>\n      <td>Motorola Moto E (1st Generation) - Black - 4 G...</td>\n      <td>Motorola</td>\n      <td>89.99</td>\n      <td>5</td>\n      <td>Great product, best value for money smartphone...</td>\n      <td>0.0</td>\n      <td>1</td>\n    </tr>\n    <tr>\n      <th>279878</th>\n      <td>OtterBox 77-29864 Defender Series Hybrid Case ...</td>\n      <td>OtterBox</td>\n      <td>9.99</td>\n      <td>5</td>\n      <td>I've bought 3 no problems. Fast delivery.</td>\n      <td>0.0</td>\n      <td>1</td>\n    </tr>\n    <tr>\n      <th>406017</th>\n      <td>Verizon HTC Rezound 4G Android Smarphone - 8MP...</td>\n      <td>HTC</td>\n      <td>74.99</td>\n      <td>4</td>\n      <td>Great phone for the price...</td>\n      <td>0.0</td>\n      <td>1</td>\n    </tr>\n    <tr>\n      <th>302567</th>\n      <td>RCA M1 Unlocked Cell Phone, Dual Sim, 5Mp Came...</td>\n      <td>RCA</td>\n      <td>159.99</td>\n      <td>5</td>\n      <td>My mom is not good with new technoloy but this...</td>\n      <td>4.0</td>\n      <td>1</td>\n    </tr>\n  </tbody>\n</table>\n</div>"
     },
     "metadata": {},
     "execution_count": 11
    }
   ],
   "source": [
    "# Dropping missing values\n",
    "df.dropna(inplace= True)\n",
    "\n",
    "# Removing Neutral ratings = 3\n",
    "df = df[df['Rating'] != 3]\n",
    "\n",
    "# Encode 4s and 5s as 1 (rated positive)\n",
    "# Encode 1s and 2s as 0 (rated poorly)\n",
    "df['Positively Rated'] = np.where(df['Rating'] > 3,1,0)\n",
    "df.head(10)"
   ]
  },
  {
   "cell_type": "code",
   "execution_count": 12,
   "metadata": {},
   "outputs": [
    {
     "output_type": "execute_result",
     "data": {
      "text/plain": "0.7471776686078667"
     },
     "metadata": {},
     "execution_count": 12
    }
   ],
   "source": [
    "# Most ratings are positive\n",
    "df['Positively Rated'].mean()"
   ]
  },
  {
   "cell_type": "code",
   "execution_count": 17,
   "metadata": {},
   "outputs": [],
   "source": [
    "from sklearn.model_selection import train_test_split\n",
    "\n",
    "# Split data into training and test sets\n",
    "X_train, X_test, y_train, y_test = train_test_split(df['Reviews'],\n",
    "                                                    df['Positively Rated'],\n",
    "                                                    random_state = 0)"
   ]
  },
  {
   "cell_type": "code",
   "execution_count": 19,
   "metadata": {},
   "outputs": [
    {
     "output_type": "stream",
     "name": "stdout",
     "text": "X_train first entry:\n\n Everything about it is awesome!\n\n\nX_train shape:  (23052,)\n"
    }
   ],
   "source": [
    "print('X_train first entry:\\n\\n', X_train.iloc[0])\n",
    "print('\\n\\nX_train shape: ', X_train.shape)"
   ]
  },
  {
   "cell_type": "code",
   "execution_count": 20,
   "metadata": {},
   "outputs": [],
   "source": [
    "# Count Vectorizer"
   ]
  },
  {
   "cell_type": "code",
   "execution_count": null,
   "metadata": {},
   "outputs": [],
   "source": []
  }
 ],
 "metadata": {
  "language_info": {
   "codemirror_mode": {
    "name": "ipython",
    "version": 3
   },
   "file_extension": ".py",
   "mimetype": "text/x-python",
   "name": "python",
   "nbconvert_exporter": "python",
   "pygments_lexer": "ipython3",
   "version": "3.8.3-final"
  },
  "orig_nbformat": 2,
  "kernelspec": {
   "name": "python38264bit5c21451e1d864d53a27be528a149d476",
   "display_name": "Python 3.8.2 64-bit"
  }
 },
 "nbformat": 4,
 "nbformat_minor": 2
}