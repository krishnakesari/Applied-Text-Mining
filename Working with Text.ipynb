{
 "cells": [
  {
   "cell_type": "code",
   "execution_count": 1,
   "metadata": {},
   "outputs": [],
   "source": [
    "# Working with Text"
   ]
  },
  {
   "cell_type": "code",
   "execution_count": 8,
   "metadata": {},
   "outputs": [
    {
     "output_type": "execute_result",
     "data": {
      "text/plain": "76"
     },
     "metadata": {},
     "execution_count": 8
    }
   ],
   "source": [
    "text1 = \"Ethics are built right into the ideals and objectives of the United Nations \"\n",
    "len(text1)"
   ]
  },
  {
   "cell_type": "code",
   "execution_count": 9,
   "metadata": {},
   "outputs": [
    {
     "output_type": "execute_result",
     "data": {
      "text/plain": "14"
     },
     "metadata": {},
     "execution_count": 9
    }
   ],
   "source": [
    "text2 = text1.split(' ')\n",
    "text2\n",
    "len(text2)"
   ]
  },
  {
   "cell_type": "code",
   "execution_count": 12,
   "metadata": {},
   "outputs": [
    {
     "output_type": "execute_result",
     "data": {
      "text/plain": "['Ethics', 'ideals', 'objectives', 'Nations']"
     },
     "metadata": {},
     "execution_count": 12
    }
   ],
   "source": [
    "# Finding specific words\n",
    "[w for w in text2 if len(w) > 3] # Finding words with size more than 3 letters\n",
    "[w for w in text2 if w.istitle()] # Capitalized words in text 2\n",
    "[w for w in text2 if w.endswith('s')] # Words in text 2 that end in 's'"
   ]
  },
  {
   "cell_type": "code",
   "execution_count": null,
   "metadata": {},
   "outputs": [],
   "source": []
  },
  {
   "cell_type": "code",
   "execution_count": 7,
   "metadata": {},
   "outputs": [
    {
     "output_type": "execute_result",
     "data": {
      "text/plain": "['Ethics', 'ideals', 'objectives', 'Nations']"
     },
     "metadata": {},
     "execution_count": 7
    }
   ],
   "source": [
    "# Finding Specific words\n",
    "[w for w in text2 if len(w) > 3] # Words that are greater than 3 letters long in text2\n",
    "[w for w in text2 if w.istitle()] # Finding Capitalized words\n",
    "[w for w in text2 if w.endswith('s')] # Words that end with 's'"
   ]
  },
  {
   "cell_type": "code",
   "execution_count": null,
   "metadata": {},
   "outputs": [],
   "source": [
    "# Finding unique words\n",
    "text3 = "
   ]
  }
 ],
 "metadata": {
  "language_info": {
   "codemirror_mode": {
    "name": "ipython",
    "version": 3
   },
   "file_extension": ".py",
   "mimetype": "text/x-python",
   "name": "python",
   "nbconvert_exporter": "python",
   "pygments_lexer": "ipython3",
   "version": "3.8.2-final"
  },
  "orig_nbformat": 2,
  "kernelspec": {
   "name": "python38264bitfeaae0ea38f749759f7aabe755a2e156",
   "display_name": "Python 3.8.2 64-bit"
  }
 },
 "nbformat": 4,
 "nbformat_minor": 2
}