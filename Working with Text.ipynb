{
 "cells": [
  {
   "cell_type": "code",
   "execution_count": 1,
   "metadata": {},
   "outputs": [],
   "source": [
    "# Working with Text"
   ]
  },
  {
   "cell_type": "code",
   "execution_count": 8,
   "metadata": {},
   "outputs": [
    {
     "output_type": "execute_result",
     "data": {
      "text/plain": "76"
     },
     "metadata": {},
     "execution_count": 8
    }
   ],
   "source": [
    "text1 = \"Ethics are built right into the ideals and objectives of the United Nations \"\n",
    "len(text1)"
   ]
  },
  {
   "cell_type": "code",
   "execution_count": 9,
   "metadata": {},
   "outputs": [
    {
     "output_type": "execute_result",
     "data": {
      "text/plain": "14"
     },
     "metadata": {},
     "execution_count": 9
    }
   ],
   "source": [
    "text2 = text1.split(' ')\n",
    "text2\n",
    "len(text2)"
   ]
  },
  {
   "cell_type": "code",
   "execution_count": 12,
   "metadata": {},
   "outputs": [
    {
     "output_type": "execute_result",
     "data": {
      "text/plain": "['Ethics', 'ideals', 'objectives', 'Nations']"
     },
     "metadata": {},
     "execution_count": 12
    }
   ],
   "source": [
    "# Finding specific words\n",
    "[w for w in text2 if len(w) > 3] # Finding words with size more than 3 letters\n",
    "[w for w in text2 if w.istitle()] # Capitalized words in text 2\n",
    "[w for w in text2 if w.endswith('s')] # Words in text 2 that end in 's'"
   ]
  },
  {
   "cell_type": "code",
   "execution_count": 13,
   "metadata": {},
   "outputs": [
    {
     "output_type": "execute_result",
     "data": {
      "text/plain": "6"
     },
     "metadata": {},
     "execution_count": 13
    }
   ],
   "source": [
    "# Finding unique words\n",
    "text3 = 'To be or not to be'\n",
    "text4 = text3.split(' ')\n",
    "len(text4)"
   ]
  },
  {
   "cell_type": "code",
   "execution_count": 14,
   "metadata": {},
   "outputs": [
    {
     "output_type": "execute_result",
     "data": {
      "text/plain": "5"
     },
     "metadata": {},
     "execution_count": 14
    }
   ],
   "source": [
    "len(set(text4)) # Counting unique words"
   ]
  },
  {
   "cell_type": "code",
   "execution_count": 15,
   "metadata": {},
   "outputs": [
    {
     "output_type": "execute_result",
     "data": {
      "text/plain": "4"
     },
     "metadata": {},
     "execution_count": 15
    }
   ],
   "source": [
    "len(set([w.lower() for w in text4])) # Converts strings to lower case"
   ]
  },
  {
   "cell_type": "code",
   "execution_count": 16,
   "metadata": {},
   "outputs": [
    {
     "output_type": "execute_result",
     "data": {
      "text/plain": "{'be', 'not', 'or', 'to'}"
     },
     "metadata": {},
     "execution_count": 16
    }
   ],
   "source": [
    "set([w.lower() for w in text4]) # Seeing unique lower case words"
   ]
  },
  {
   "cell_type": "code",
   "execution_count": 17,
   "metadata": {},
   "outputs": [
    {
     "output_type": "execute_result",
     "data": {
      "text/plain": "['\"Ethics',\n 'are',\n 'built',\n 'right',\n 'into',\n 'the',\n 'ideals',\n 'and',\n 'objectives',\n 'of',\n 'the',\n 'United',\n 'Nations\"',\n '#UNSG',\n '@',\n 'NY',\n 'Society',\n 'for',\n 'Ethical',\n 'Culture',\n 'bit.ly/2guVelr']"
     },
     "metadata": {},
     "execution_count": 17
    }
   ],
   "source": [
    "# Processing free text\n",
    "text5 = '\"Ethics are built right into the ideals and objectives of the United Nations\" \\\n",
    "#UNSG @ NY Society for Ethical Culture bit.ly/2guVelr'\n",
    "text6 = text5.split(' ')\n",
    "\n",
    "text6"
   ]
  },
  {
   "cell_type": "code",
   "execution_count": 20,
   "metadata": {},
   "outputs": [
    {
     "output_type": "execute_result",
     "data": {
      "text/plain": "['@']"
     },
     "metadata": {},
     "execution_count": 20
    }
   ],
   "source": [
    "[w for w in text6 if w.startswith('#')] # finding words that start with \"#\"\n",
    "[w for w in text6 if w.startswith('@')] # finding words that start with \"@\""
   ]
  },
  {
   "cell_type": "code",
   "execution_count": 21,
   "metadata": {},
   "outputs": [],
   "source": [
    "text7 = '@UN @UN_Women \"Ethics are built right into the ideals and objectives of the United Nations\" \\\n",
    "#UNSG @ NY Society for Ethical Culture bit.ly/2guVelr'\n",
    "text8 = text7.split(' ')"
   ]
  },
  {
   "cell_type": "code",
   "execution_count": 24,
   "metadata": {},
   "outputs": [
    {
     "output_type": "execute_result",
     "data": {
      "text/plain": "['@UN', '@UN_Women']"
     },
     "metadata": {},
     "execution_count": 24
    }
   ],
   "source": [
    "# Peforming regular expressions\n",
    "import re\n",
    "\n",
    "[w for w in text8 if re.search('@[A-Za-z0-9_]+', w)]\n",
    "\n",
    "# starts with '@' followed by atlease one Capital letter('A-Z'), lower case ('a-z'), number ('0-9') or underscore(_)"
   ]
  },
  {
   "cell_type": "code",
   "execution_count": null,
   "metadata": {},
   "outputs": [],
   "source": []
  },
  {
   "cell_type": "code",
   "execution_count": 7,
   "metadata": {},
   "outputs": [
    {
     "output_type": "execute_result",
     "data": {
      "text/plain": "['Ethics', 'ideals', 'objectives', 'Nations']"
     },
     "metadata": {},
     "execution_count": 7
    }
   ],
   "source": [
    "# Finding Specific words\n",
    "[w for w in text2 if len(w) > 3] # Words that are greater than 3 letters long in text2\n",
    "[w for w in text2 if w.istitle()] # Finding Capitalized words\n",
    "[w for w in text2 if w.endswith('s')] # Words that end with 's'"
   ]
  },
  {
   "cell_type": "code",
   "execution_count": null,
   "metadata": {},
   "outputs": [],
   "source": [
    "# Finding unique words\n",
    "text3 = "
   ]
  }
 ],
 "metadata": {
  "language_info": {
   "codemirror_mode": {
    "name": "ipython",
    "version": 3
   },
   "file_extension": ".py",
   "mimetype": "text/x-python",
   "name": "python",
   "nbconvert_exporter": "python",
   "pygments_lexer": "ipython3",
   "version": "3.8.2-final"
  },
  "orig_nbformat": 2,
  "kernelspec": {
   "name": "python38264bitfeaae0ea38f749759f7aabe755a2e156",
   "display_name": "Python 3.8.2 64-bit"
  }
 },
 "nbformat": 4,
 "nbformat_minor": 2
}