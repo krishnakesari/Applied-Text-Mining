{
 "cells": [
  {
   "cell_type": "code",
   "execution_count": 8,
   "metadata": {},
   "outputs": [],
   "source": [
    "tweet = '#Python @python #Python90_12 # Python30_15'"
   ]
  },
  {
   "cell_type": "code",
   "execution_count": 9,
   "metadata": {},
   "outputs": [
    {
     "output_type": "execute_result",
     "data": {
      "text/plain": "['#Python', '@python', '#Python90_12', '#', 'Python30_15']"
     },
     "metadata": {},
     "execution_count": 9
    }
   ],
   "source": [
    "tweet2 = tweet.split(' ')\n",
    "tweet2"
   ]
  },
  {
   "cell_type": "code",
   "execution_count": 10,
   "metadata": {},
   "outputs": [
    {
     "output_type": "execute_result",
     "data": {
      "text/plain": "['#Python', '#Python90_12']"
     },
     "metadata": {},
     "execution_count": 10
    }
   ],
   "source": [
    "import re\n",
    "[w for w in tweet2 if re.search('#[A-Za-z0-9_]+', w)]"
   ]
  },
  {
   "cell_type": "code",
   "execution_count": 13,
   "metadata": {},
   "outputs": [
    {
     "output_type": "execute_result",
     "data": {
      "text/plain": "['g', 'd', 'g']"
     },
     "metadata": {},
     "execution_count": 13
    }
   ],
   "source": [
    "text12 = 'ouagadougou'\n",
    "re.findall(r'[aeiou]', text12) # Finding all vowels in the word\n",
    "re.findall(r'[^aeiou]', text12) # Finding all not vowels in the word"
   ]
  },
  {
   "cell_type": "code",
   "execution_count": 15,
   "metadata": {},
   "outputs": [
    {
     "output_type": "execute_result",
     "data": {
      "text/plain": "['23-10-2002', '23/10/2002', '23/10/02']"
     },
     "metadata": {},
     "execution_count": 15
    }
   ],
   "source": [
    "# Regular expressions with dates\n",
    "datestr = '23-10-2002\\n23/10/2002\\n23/10/02'\n",
    "re.findall(r'\\d{2}[/-]\\d{2}[/-]\\d{4}', datestr)\n",
    "re.findall(r'\\d{2}[/-]\\d{2}[/-]\\d{2,4}', datestr)"
   ]
  },
  {
   "cell_type": "code",
   "execution_count": 18,
   "metadata": {},
   "outputs": [
    {
     "output_type": "execute_result",
     "data": {
      "text/plain": "[' Oct 2002', ' October 2002', ' Oct 23, 2002', ' October 23, 2002']"
     },
     "metadata": {},
     "execution_count": 18
    }
   ],
   "source": [
    "datestr2 = '23 Oct 2002\\n 23 October 2002\\n Oct 23, 2002\\n October 23, 2002'\n",
    "re.findall(r'(?:\\d{2} )? (?:Jan|Feb|Mar|Apr|May|Jun|Jul|Aug|Sep|Oct|Nov|Dec)[a-z]* (?:\\d{2}, )?\\d{4}',datestr2)"
   ]
  },
  {
   "cell_type": "code",
   "execution_count": null,
   "metadata": {},
   "outputs": [],
   "source": []
  },
  {
   "cell_type": "code",
   "execution_count": null,
   "metadata": {},
   "outputs": [],
   "source": []
  }
 ],
 "metadata": {
  "language_info": {
   "codemirror_mode": {
    "name": "ipython",
    "version": 3
   },
   "file_extension": ".py",
   "mimetype": "text/x-python",
   "name": "python",
   "nbconvert_exporter": "python",
   "pygments_lexer": "ipython3",
   "version": "3.8.2-final"
  },
  "orig_nbformat": 2,
  "kernelspec": {
   "name": "python38264bitfeaae0ea38f749759f7aabe755a2e156",
   "display_name": "Python 3.8.2 64-bit"
  }
 },
 "nbformat": 4,
 "nbformat_minor": 2
}